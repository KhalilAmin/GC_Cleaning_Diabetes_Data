{
 "cells": [
  {
   "cell_type": "code",
   "execution_count": 1,
   "id": "085073fb",
   "metadata": {},
   "outputs": [],
   "source": [
    "# import modules\n",
    "import pandas as pd"
   ]
  },
  {
   "cell_type": "code",
   "execution_count": 2,
   "id": "b5309c02",
   "metadata": {},
   "outputs": [
    {
     "data": {
      "text/html": [
       "<div>\n",
       "<style scoped>\n",
       "    .dataframe tbody tr th:only-of-type {\n",
       "        vertical-align: middle;\n",
       "    }\n",
       "\n",
       "    .dataframe tbody tr th {\n",
       "        vertical-align: top;\n",
       "    }\n",
       "\n",
       "    .dataframe thead th {\n",
       "        text-align: right;\n",
       "    }\n",
       "</style>\n",
       "<table border=\"1\" class=\"dataframe\">\n",
       "  <thead>\n",
       "    <tr style=\"text-align: right;\">\n",
       "      <th></th>\n",
       "      <th>price</th>\n",
       "      <th>area</th>\n",
       "      <th>bedrooms</th>\n",
       "      <th>bathrooms</th>\n",
       "      <th>stories</th>\n",
       "      <th>mainroad</th>\n",
       "      <th>guestroom</th>\n",
       "      <th>basement</th>\n",
       "      <th>hotwaterheating</th>\n",
       "      <th>airconditioning</th>\n",
       "      <th>parking</th>\n",
       "      <th>prefarea</th>\n",
       "      <th>furnishingstatus</th>\n",
       "    </tr>\n",
       "  </thead>\n",
       "  <tbody>\n",
       "    <tr>\n",
       "      <th>0</th>\n",
       "      <td>11991472.0</td>\n",
       "      <td>14139.0</td>\n",
       "      <td>3.0</td>\n",
       "      <td>1.0</td>\n",
       "      <td>4.0</td>\n",
       "      <td>FALSE</td>\n",
       "      <td>TRUE</td>\n",
       "      <td>FALSE</td>\n",
       "      <td>FALSE</td>\n",
       "      <td>False</td>\n",
       "      <td>1</td>\n",
       "      <td>True</td>\n",
       "      <td>unfurnished</td>\n",
       "    </tr>\n",
       "    <tr>\n",
       "      <th>1</th>\n",
       "      <td>11991472.0</td>\n",
       "      <td>14139.0</td>\n",
       "      <td>3.0</td>\n",
       "      <td>1.0</td>\n",
       "      <td>4.0</td>\n",
       "      <td>FALSE</td>\n",
       "      <td>TRUE</td>\n",
       "      <td>FALSE</td>\n",
       "      <td>FALSE</td>\n",
       "      <td>False</td>\n",
       "      <td>1</td>\n",
       "      <td>True</td>\n",
       "      <td>unfurnished</td>\n",
       "    </tr>\n",
       "    <tr>\n",
       "      <th>2</th>\n",
       "      <td>8632694.0</td>\n",
       "      <td>4182.0</td>\n",
       "      <td>3.0</td>\n",
       "      <td>3.0</td>\n",
       "      <td>1.0</td>\n",
       "      <td>TRUE</td>\n",
       "      <td>FALSE</td>\n",
       "      <td>FALSE</td>\n",
       "      <td>TRUE</td>\n",
       "      <td>True</td>\n",
       "      <td>3</td>\n",
       "      <td>False</td>\n",
       "      <td>unfurnished</td>\n",
       "    </tr>\n",
       "    <tr>\n",
       "      <th>3</th>\n",
       "      <td>8481911.0</td>\n",
       "      <td>10645.0</td>\n",
       "      <td>4.0</td>\n",
       "      <td>4.0</td>\n",
       "      <td>NaN</td>\n",
       "      <td>FALSE</td>\n",
       "      <td>TRUE</td>\n",
       "      <td>TRUE</td>\n",
       "      <td>FALSE</td>\n",
       "      <td>False</td>\n",
       "      <td>0</td>\n",
       "      <td>False</td>\n",
       "      <td>semi-furnished</td>\n",
       "    </tr>\n",
       "    <tr>\n",
       "      <th>4</th>\n",
       "      <td>13556045.0</td>\n",
       "      <td>6415.0</td>\n",
       "      <td>4.0</td>\n",
       "      <td>2.0</td>\n",
       "      <td>1.0</td>\n",
       "      <td>FALSE</td>\n",
       "      <td>TRUE</td>\n",
       "      <td>FALSE</td>\n",
       "      <td>TRUE</td>\n",
       "      <td>False</td>\n",
       "      <td>0</td>\n",
       "      <td>True</td>\n",
       "      <td>furnished</td>\n",
       "    </tr>\n",
       "    <tr>\n",
       "      <th>5</th>\n",
       "      <td>9925983.0</td>\n",
       "      <td>9504.0</td>\n",
       "      <td>3.0</td>\n",
       "      <td>2.0</td>\n",
       "      <td>2.0</td>\n",
       "      <td>FALSE</td>\n",
       "      <td>TRUE</td>\n",
       "      <td>FALSE</td>\n",
       "      <td>FALSE</td>\n",
       "      <td>True</td>\n",
       "      <td>1</td>\n",
       "      <td>False</td>\n",
       "      <td>furnished</td>\n",
       "    </tr>\n",
       "    <tr>\n",
       "      <th>6</th>\n",
       "      <td>9101598.0</td>\n",
       "      <td>5752.0</td>\n",
       "      <td>3.0</td>\n",
       "      <td>1.0</td>\n",
       "      <td>1.0</td>\n",
       "      <td>FALSE</td>\n",
       "      <td>FALSE</td>\n",
       "      <td>TRUE</td>\n",
       "      <td>FALSE</td>\n",
       "      <td>True</td>\n",
       "      <td>1</td>\n",
       "      <td>True</td>\n",
       "      <td>semi-furnished</td>\n",
       "    </tr>\n",
       "    <tr>\n",
       "      <th>7</th>\n",
       "      <td>9979630.0</td>\n",
       "      <td>7420.0</td>\n",
       "      <td>3.0</td>\n",
       "      <td>3.0</td>\n",
       "      <td>1.0</td>\n",
       "      <td>FALSE</td>\n",
       "      <td>FALSE</td>\n",
       "      <td>TRUE</td>\n",
       "      <td>TRUE</td>\n",
       "      <td>False</td>\n",
       "      <td>0</td>\n",
       "      <td>True</td>\n",
       "      <td>furnished</td>\n",
       "    </tr>\n",
       "    <tr>\n",
       "      <th>8</th>\n",
       "      <td>9979630.0</td>\n",
       "      <td>7420.0</td>\n",
       "      <td>3.0</td>\n",
       "      <td>3.0</td>\n",
       "      <td>1.0</td>\n",
       "      <td>FALSE</td>\n",
       "      <td>FALSE</td>\n",
       "      <td>TRUE</td>\n",
       "      <td>TRUE</td>\n",
       "      <td>False</td>\n",
       "      <td>0</td>\n",
       "      <td>True</td>\n",
       "      <td>furnished</td>\n",
       "    </tr>\n",
       "    <tr>\n",
       "      <th>9</th>\n",
       "      <td>10179634.0</td>\n",
       "      <td>7400.0</td>\n",
       "      <td>4.0</td>\n",
       "      <td>1.0</td>\n",
       "      <td>1.0</td>\n",
       "      <td>TRUE</td>\n",
       "      <td>FALSE</td>\n",
       "      <td>FALSE</td>\n",
       "      <td>TRUE</td>\n",
       "      <td>False</td>\n",
       "      <td>0</td>\n",
       "      <td>True</td>\n",
       "      <td>furnished</td>\n",
       "    </tr>\n",
       "    <tr>\n",
       "      <th>10</th>\n",
       "      <td>10161840.0</td>\n",
       "      <td>8918.0</td>\n",
       "      <td>4.0</td>\n",
       "      <td>2.0</td>\n",
       "      <td>4.0</td>\n",
       "      <td>FALSE</td>\n",
       "      <td>TRUE</td>\n",
       "      <td>TRUE</td>\n",
       "      <td>FALSE</td>\n",
       "      <td>True</td>\n",
       "      <td>0</td>\n",
       "      <td>False</td>\n",
       "      <td>unfurnished</td>\n",
       "    </tr>\n",
       "    <tr>\n",
       "      <th>11</th>\n",
       "      <td>12045879.0</td>\n",
       "      <td>15243.0</td>\n",
       "      <td>4.0</td>\n",
       "      <td>4.0</td>\n",
       "      <td>1.0</td>\n",
       "      <td>FALSE</td>\n",
       "      <td>TRUE</td>\n",
       "      <td>FALSE</td>\n",
       "      <td>FALSE</td>\n",
       "      <td>True</td>\n",
       "      <td>3</td>\n",
       "      <td>False</td>\n",
       "      <td>unfurnished</td>\n",
       "    </tr>\n",
       "    <tr>\n",
       "      <th>12</th>\n",
       "      <td>-112.0</td>\n",
       "      <td>8687.0</td>\n",
       "      <td>3.0</td>\n",
       "      <td>4.0</td>\n",
       "      <td>1.0</td>\n",
       "      <td>TRUE</td>\n",
       "      <td>TRUE</td>\n",
       "      <td>FALSE</td>\n",
       "      <td>TRUE</td>\n",
       "      <td>True</td>\n",
       "      <td>3</td>\n",
       "      <td>False</td>\n",
       "      <td>semi-furnished</td>\n",
       "    </tr>\n",
       "    <tr>\n",
       "      <th>13</th>\n",
       "      <td>11420591.0</td>\n",
       "      <td>12697.0</td>\n",
       "      <td>3.0</td>\n",
       "      <td>3.0</td>\n",
       "      <td>3.0</td>\n",
       "      <td>TRUE</td>\n",
       "      <td>TRUE</td>\n",
       "      <td>TRUE</td>\n",
       "      <td>TRUE</td>\n",
       "      <td>True</td>\n",
       "      <td>1</td>\n",
       "      <td>False</td>\n",
       "      <td>unfurnished</td>\n",
       "    </tr>\n",
       "    <tr>\n",
       "      <th>14</th>\n",
       "      <td>12047335.0</td>\n",
       "      <td>5109.0</td>\n",
       "      <td>3.0</td>\n",
       "      <td>3.0</td>\n",
       "      <td>3.0</td>\n",
       "      <td>FALSE</td>\n",
       "      <td>FALSE</td>\n",
       "      <td>FALSE</td>\n",
       "      <td>TRUE</td>\n",
       "      <td>True</td>\n",
       "      <td>2</td>\n",
       "      <td>False</td>\n",
       "      <td>unfurnished</td>\n",
       "    </tr>\n",
       "    <tr>\n",
       "      <th>15</th>\n",
       "      <td>8277674.0</td>\n",
       "      <td>13807.0</td>\n",
       "      <td>3.0</td>\n",
       "      <td>2.0</td>\n",
       "      <td>4.0</td>\n",
       "      <td>FALSE</td>\n",
       "      <td>FALSE</td>\n",
       "      <td>TRUE</td>\n",
       "      <td>TRUE</td>\n",
       "      <td>True</td>\n",
       "      <td>3</td>\n",
       "      <td>False</td>\n",
       "      <td>furnished</td>\n",
       "    </tr>\n",
       "    <tr>\n",
       "      <th>16</th>\n",
       "      <td>8666997.0</td>\n",
       "      <td>9556.0</td>\n",
       "      <td>3.0</td>\n",
       "      <td>1.0</td>\n",
       "      <td>4.0</td>\n",
       "      <td>TRUE</td>\n",
       "      <td>FALSE</td>\n",
       "      <td>TRUE</td>\n",
       "      <td>FALSE</td>\n",
       "      <td>False</td>\n",
       "      <td>3</td>\n",
       "      <td>True</td>\n",
       "      <td>unfurnished</td>\n",
       "    </tr>\n",
       "    <tr>\n",
       "      <th>17</th>\n",
       "      <td>12352573.0</td>\n",
       "      <td>6792.0</td>\n",
       "      <td>5.0</td>\n",
       "      <td>4.0</td>\n",
       "      <td>4.0</td>\n",
       "      <td>TRUE</td>\n",
       "      <td>FALSE</td>\n",
       "      <td>FALSE</td>\n",
       "      <td>TRUE</td>\n",
       "      <td>False</td>\n",
       "      <td>0</td>\n",
       "      <td>False</td>\n",
       "      <td>furnished</td>\n",
       "    </tr>\n",
       "    <tr>\n",
       "      <th>18</th>\n",
       "      <td>10357357.0</td>\n",
       "      <td>5033.0</td>\n",
       "      <td>4.0</td>\n",
       "      <td>3.0</td>\n",
       "      <td>3.0</td>\n",
       "      <td>FALSE</td>\n",
       "      <td>TRUE</td>\n",
       "      <td>TRUE</td>\n",
       "      <td>FALSE</td>\n",
       "      <td>False</td>\n",
       "      <td>0</td>\n",
       "      <td>False</td>\n",
       "      <td>unfurnished</td>\n",
       "    </tr>\n",
       "    <tr>\n",
       "      <th>19</th>\n",
       "      <td>12284409.0</td>\n",
       "      <td>5175.0</td>\n",
       "      <td>4.0</td>\n",
       "      <td>1.0</td>\n",
       "      <td>2.0</td>\n",
       "      <td>FALSE</td>\n",
       "      <td>TRUE</td>\n",
       "      <td>TRUE</td>\n",
       "      <td>TRUE</td>\n",
       "      <td>True</td>\n",
       "      <td>3</td>\n",
       "      <td>False</td>\n",
       "      <td>unfurnished</td>\n",
       "    </tr>\n",
       "  </tbody>\n",
       "</table>\n",
       "</div>"
      ],
      "text/plain": [
       "         price     area  bedrooms  bathrooms  stories mainroad guestroom  \\\n",
       "0   11991472.0  14139.0       3.0        1.0      4.0    FALSE      TRUE   \n",
       "1   11991472.0  14139.0       3.0        1.0      4.0    FALSE      TRUE   \n",
       "2    8632694.0   4182.0       3.0        3.0      1.0     TRUE     FALSE   \n",
       "3    8481911.0  10645.0       4.0        4.0      NaN    FALSE      TRUE   \n",
       "4   13556045.0   6415.0       4.0        2.0      1.0    FALSE      TRUE   \n",
       "5    9925983.0   9504.0       3.0        2.0      2.0    FALSE      TRUE   \n",
       "6    9101598.0   5752.0       3.0        1.0      1.0    FALSE     FALSE   \n",
       "7    9979630.0   7420.0       3.0        3.0      1.0    FALSE     FALSE   \n",
       "8    9979630.0   7420.0       3.0        3.0      1.0    FALSE     FALSE   \n",
       "9   10179634.0   7400.0       4.0        1.0      1.0     TRUE     FALSE   \n",
       "10  10161840.0   8918.0       4.0        2.0      4.0    FALSE      TRUE   \n",
       "11  12045879.0  15243.0       4.0        4.0      1.0    FALSE      TRUE   \n",
       "12      -112.0   8687.0       3.0        4.0      1.0     TRUE      TRUE   \n",
       "13  11420591.0  12697.0       3.0        3.0      3.0     TRUE      TRUE   \n",
       "14  12047335.0   5109.0       3.0        3.0      3.0    FALSE     FALSE   \n",
       "15   8277674.0  13807.0       3.0        2.0      4.0    FALSE     FALSE   \n",
       "16   8666997.0   9556.0       3.0        1.0      4.0     TRUE     FALSE   \n",
       "17  12352573.0   6792.0       5.0        4.0      4.0     TRUE     FALSE   \n",
       "18  10357357.0   5033.0       4.0        3.0      3.0    FALSE      TRUE   \n",
       "19  12284409.0   5175.0       4.0        1.0      2.0    FALSE      TRUE   \n",
       "\n",
       "   basement hotwaterheating  airconditioning  parking  prefarea  \\\n",
       "0     FALSE           FALSE            False        1      True   \n",
       "1     FALSE           FALSE            False        1      True   \n",
       "2     FALSE            TRUE             True        3     False   \n",
       "3      TRUE           FALSE            False        0     False   \n",
       "4     FALSE            TRUE            False        0      True   \n",
       "5     FALSE           FALSE             True        1     False   \n",
       "6      TRUE           FALSE             True        1      True   \n",
       "7      TRUE            TRUE            False        0      True   \n",
       "8      TRUE            TRUE            False        0      True   \n",
       "9     FALSE            TRUE            False        0      True   \n",
       "10     TRUE           FALSE             True        0     False   \n",
       "11    FALSE           FALSE             True        3     False   \n",
       "12    FALSE            TRUE             True        3     False   \n",
       "13     TRUE            TRUE             True        1     False   \n",
       "14    FALSE            TRUE             True        2     False   \n",
       "15     TRUE            TRUE             True        3     False   \n",
       "16     TRUE           FALSE            False        3      True   \n",
       "17    FALSE            TRUE            False        0     False   \n",
       "18     TRUE           FALSE            False        0     False   \n",
       "19     TRUE            TRUE             True        3     False   \n",
       "\n",
       "   furnishingstatus  \n",
       "0       unfurnished  \n",
       "1       unfurnished  \n",
       "2       unfurnished  \n",
       "3    semi-furnished  \n",
       "4         furnished  \n",
       "5         furnished  \n",
       "6    semi-furnished  \n",
       "7         furnished  \n",
       "8         furnished  \n",
       "9         furnished  \n",
       "10      unfurnished  \n",
       "11      unfurnished  \n",
       "12   semi-furnished  \n",
       "13      unfurnished  \n",
       "14      unfurnished  \n",
       "15        furnished  \n",
       "16      unfurnished  \n",
       "17        furnished  \n",
       "18      unfurnished  \n",
       "19      unfurnished  "
      ]
     },
     "execution_count": 2,
     "metadata": {},
     "output_type": "execute_result"
    }
   ],
   "source": [
    "broken_housing_df = pd.read_csv('./data/broken_ames_housing_data.csv')\n",
    "broken_housing_df.head(20)"
   ]
  },
  {
   "cell_type": "code",
   "execution_count": 3,
   "id": "b2d1cbb6",
   "metadata": {},
   "outputs": [
    {
     "data": {
      "text/plain": [
       "price                991\n",
       "area                 988\n",
       "bedrooms             990\n",
       "bathrooms            985\n",
       "stories              983\n",
       "mainroad            1003\n",
       "guestroom           1003\n",
       "basement             956\n",
       "hotwaterheating     1003\n",
       "airconditioning     1003\n",
       "parking             1003\n",
       "prefarea            1003\n",
       "furnishingstatus    1003\n",
       "dtype: int64"
      ]
     },
     "execution_count": 3,
     "metadata": {},
     "output_type": "execute_result"
    }
   ],
   "source": [
    "broken_housing_df.count()\n",
    "## Do we have missing data and where? \n"
   ]
  },
  {
   "cell_type": "code",
   "execution_count": 4,
   "id": "4d85dbc3",
   "metadata": {},
   "outputs": [
    {
     "name": "stdout",
     "output_type": "stream",
     "text": [
      "<class 'pandas.core.frame.DataFrame'>\n",
      "RangeIndex: 1003 entries, 0 to 1002\n",
      "Data columns (total 13 columns):\n",
      " #   Column            Non-Null Count  Dtype  \n",
      "---  ------            --------------  -----  \n",
      " 0   price             991 non-null    float64\n",
      " 1   area              988 non-null    float64\n",
      " 2   bedrooms          990 non-null    float64\n",
      " 3   bathrooms         985 non-null    float64\n",
      " 4   stories           983 non-null    float64\n",
      " 5   mainroad          1003 non-null   object \n",
      " 6   guestroom         1003 non-null   object \n",
      " 7   basement          956 non-null    object \n",
      " 8   hotwaterheating   1003 non-null   object \n",
      " 9   airconditioning   1003 non-null   bool   \n",
      " 10  parking           1003 non-null   int64  \n",
      " 11  prefarea          1003 non-null   bool   \n",
      " 12  furnishingstatus  1003 non-null   object \n",
      "dtypes: bool(2), float64(5), int64(1), object(5)\n",
      "memory usage: 88.3+ KB\n"
     ]
    }
   ],
   "source": [
    "broken_housing_df.info()\n"
   ]
  },
  {
   "cell_type": "code",
   "execution_count": 5,
   "id": "e78b9d92",
   "metadata": {},
   "outputs": [
    {
     "data": {
      "text/plain": [
       "bedrooms\n",
       "3.0    340\n",
       "4.0    331\n",
       "5.0    319\n",
       "Name: count, dtype: int64"
      ]
     },
     "metadata": {},
     "output_type": "display_data"
    }
   ],
   "source": [
    "display(broken_housing_df['bedrooms'].value_counts())\n"
   ]
  },
  {
   "cell_type": "code",
   "execution_count": 6,
   "id": "8e949878",
   "metadata": {},
   "outputs": [
    {
     "data": {
      "text/plain": [
       "bathrooms\n",
       "2.0      262\n",
       "4.0      247\n",
       "1.0      246\n",
       "3.0      229\n",
       "124.0      1\n",
       "Name: count, dtype: int64"
      ]
     },
     "metadata": {},
     "output_type": "display_data"
    }
   ],
   "source": [
    "display(broken_housing_df['bathrooms'].value_counts())\n"
   ]
  },
  {
   "cell_type": "code",
   "execution_count": 7,
   "id": "01038f41",
   "metadata": {},
   "outputs": [
    {
     "data": {
      "text/plain": [
       "stories\n",
       "1.0    266\n",
       "2.0    259\n",
       "3.0    234\n",
       "4.0    224\n",
       "Name: count, dtype: int64"
      ]
     },
     "metadata": {},
     "output_type": "display_data"
    }
   ],
   "source": [
    "display(broken_housing_df['stories'].value_counts())\n"
   ]
  },
  {
   "cell_type": "code",
   "execution_count": 8,
   "id": "f3d3f25b",
   "metadata": {},
   "outputs": [
    {
     "data": {
      "text/plain": [
       "mainroad\n",
       "TRUE     519\n",
       "FALSE    483\n",
       "ERROR      1\n",
       "Name: count, dtype: int64"
      ]
     },
     "metadata": {},
     "output_type": "display_data"
    }
   ],
   "source": [
    "display(broken_housing_df['mainroad'].value_counts())\n"
   ]
  },
  {
   "cell_type": "code",
   "execution_count": 9,
   "id": "2fc24bd5",
   "metadata": {},
   "outputs": [
    {
     "data": {
      "text/plain": [
       "basement\n",
       "TRUE     479\n",
       "FALSE    475\n",
       "ERROR      2\n",
       "Name: count, dtype: int64"
      ]
     },
     "metadata": {},
     "output_type": "display_data"
    }
   ],
   "source": [
    "display(broken_housing_df['basement'].value_counts())\n",
    "\n"
   ]
  },
  {
   "cell_type": "code",
   "execution_count": 10,
   "id": "e461aa70",
   "metadata": {},
   "outputs": [
    {
     "data": {
      "text/plain": [
       "airconditioning\n",
       "False    515\n",
       "True     488\n",
       "Name: count, dtype: int64"
      ]
     },
     "metadata": {},
     "output_type": "display_data"
    }
   ],
   "source": [
    "display(broken_housing_df['airconditioning'].value_counts())\n"
   ]
  },
  {
   "cell_type": "code",
   "execution_count": 11,
   "id": "b9676b38",
   "metadata": {},
   "outputs": [
    {
     "data": {
      "text/plain": [
       "hotwaterheating\n",
       "FALSE    510\n",
       "TRUE     492\n",
       "ERROR      1\n",
       "Name: count, dtype: int64"
      ]
     },
     "metadata": {},
     "output_type": "display_data"
    }
   ],
   "source": [
    "display(broken_housing_df['hotwaterheating'].value_counts())\n",
    "\n"
   ]
  },
  {
   "cell_type": "code",
   "execution_count": 12,
   "id": "44342833",
   "metadata": {},
   "outputs": [
    {
     "data": {
      "text/plain": [
       "furnishingstatus\n",
       "semi-furnished    341\n",
       "furnished         341\n",
       "unfurnished       320\n",
       "ERROR               1\n",
       "Name: count, dtype: int64"
      ]
     },
     "metadata": {},
     "output_type": "display_data"
    }
   ],
   "source": [
    "display(broken_housing_df['furnishingstatus'].value_counts())\n",
    "\n"
   ]
  },
  {
   "cell_type": "code",
   "execution_count": 13,
   "id": "cba8c887",
   "metadata": {},
   "outputs": [
    {
     "data": {
      "text/plain": [
       "mainroad\n",
       "TRUE     519\n",
       "FALSE    483\n",
       "ERROR      1\n",
       "Name: count, dtype: int64"
      ]
     },
     "metadata": {},
     "output_type": "display_data"
    }
   ],
   "source": [
    "display(broken_housing_df['mainroad'].value_counts())\n"
   ]
  },
  {
   "cell_type": "code",
   "execution_count": 14,
   "id": "7d460258",
   "metadata": {},
   "outputs": [
    {
     "data": {
      "text/plain": [
       "guestroom\n",
       "TRUE     510\n",
       "FALSE    492\n",
       "ERROR      1\n",
       "Name: count, dtype: int64"
      ]
     },
     "metadata": {},
     "output_type": "display_data"
    }
   ],
   "source": [
    "display(broken_housing_df['guestroom'].value_counts())\n"
   ]
  },
  {
   "cell_type": "code",
   "execution_count": 15,
   "id": "6cee55f0",
   "metadata": {},
   "outputs": [
    {
     "data": {
      "text/html": [
       "<div>\n",
       "<style scoped>\n",
       "    .dataframe tbody tr th:only-of-type {\n",
       "        vertical-align: middle;\n",
       "    }\n",
       "\n",
       "    .dataframe tbody tr th {\n",
       "        vertical-align: top;\n",
       "    }\n",
       "\n",
       "    .dataframe thead th {\n",
       "        text-align: right;\n",
       "    }\n",
       "</style>\n",
       "<table border=\"1\" class=\"dataframe\">\n",
       "  <thead>\n",
       "    <tr style=\"text-align: right;\">\n",
       "      <th></th>\n",
       "      <th>price</th>\n",
       "      <th>area</th>\n",
       "      <th>bedrooms</th>\n",
       "      <th>bathrooms</th>\n",
       "      <th>stories</th>\n",
       "      <th>mainroad</th>\n",
       "      <th>guestroom</th>\n",
       "      <th>basement</th>\n",
       "      <th>hotwaterheating</th>\n",
       "      <th>airconditioning</th>\n",
       "      <th>parking</th>\n",
       "      <th>prefarea</th>\n",
       "      <th>furnishingstatus</th>\n",
       "    </tr>\n",
       "  </thead>\n",
       "  <tbody>\n",
       "    <tr>\n",
       "      <th>988</th>\n",
       "      <td>9994840.0</td>\n",
       "      <td>15809.0</td>\n",
       "      <td>3.0</td>\n",
       "      <td>4.0</td>\n",
       "      <td>4.0</td>\n",
       "      <td>ERROR</td>\n",
       "      <td>ERROR</td>\n",
       "      <td>ERROR</td>\n",
       "      <td>ERROR</td>\n",
       "      <td>False</td>\n",
       "      <td>2</td>\n",
       "      <td>False</td>\n",
       "      <td>semi-furnished</td>\n",
       "    </tr>\n",
       "  </tbody>\n",
       "</table>\n",
       "</div>"
      ],
      "text/plain": [
       "         price     area  bedrooms  bathrooms  stories mainroad guestroom  \\\n",
       "988  9994840.0  15809.0       3.0        4.0      4.0    ERROR     ERROR   \n",
       "\n",
       "    basement hotwaterheating  airconditioning  parking  prefarea  \\\n",
       "988    ERROR           ERROR            False        2     False   \n",
       "\n",
       "    furnishingstatus  \n",
       "988   semi-furnished  "
      ]
     },
     "execution_count": 15,
     "metadata": {},
     "output_type": "execute_result"
    }
   ],
   "source": [
    "broken_housing_df[broken_housing_df['guestroom'] == \"ERROR\"] "
   ]
  },
  {
   "cell_type": "code",
   "execution_count": 16,
   "id": "434b09c4",
   "metadata": {},
   "outputs": [
    {
     "data": {
      "text/html": [
       "<div>\n",
       "<style scoped>\n",
       "    .dataframe tbody tr th:only-of-type {\n",
       "        vertical-align: middle;\n",
       "    }\n",
       "\n",
       "    .dataframe tbody tr th {\n",
       "        vertical-align: top;\n",
       "    }\n",
       "\n",
       "    .dataframe thead th {\n",
       "        text-align: right;\n",
       "    }\n",
       "</style>\n",
       "<table border=\"1\" class=\"dataframe\">\n",
       "  <thead>\n",
       "    <tr style=\"text-align: right;\">\n",
       "      <th></th>\n",
       "      <th>price</th>\n",
       "      <th>area</th>\n",
       "      <th>bedrooms</th>\n",
       "      <th>bathrooms</th>\n",
       "      <th>stories</th>\n",
       "      <th>mainroad</th>\n",
       "      <th>guestroom</th>\n",
       "      <th>basement</th>\n",
       "      <th>hotwaterheating</th>\n",
       "      <th>airconditioning</th>\n",
       "      <th>parking</th>\n",
       "      <th>prefarea</th>\n",
       "      <th>furnishingstatus</th>\n",
       "    </tr>\n",
       "  </thead>\n",
       "  <tbody>\n",
       "    <tr>\n",
       "      <th>0</th>\n",
       "      <td>11991472.0</td>\n",
       "      <td>14139.0</td>\n",
       "      <td>3.0</td>\n",
       "      <td>1.0</td>\n",
       "      <td>4.0</td>\n",
       "      <td>FALSE</td>\n",
       "      <td>TRUE</td>\n",
       "      <td>FALSE</td>\n",
       "      <td>FALSE</td>\n",
       "      <td>False</td>\n",
       "      <td>1</td>\n",
       "      <td>True</td>\n",
       "      <td>unfurnished</td>\n",
       "    </tr>\n",
       "    <tr>\n",
       "      <th>1</th>\n",
       "      <td>11991472.0</td>\n",
       "      <td>14139.0</td>\n",
       "      <td>3.0</td>\n",
       "      <td>1.0</td>\n",
       "      <td>4.0</td>\n",
       "      <td>FALSE</td>\n",
       "      <td>TRUE</td>\n",
       "      <td>FALSE</td>\n",
       "      <td>FALSE</td>\n",
       "      <td>False</td>\n",
       "      <td>1</td>\n",
       "      <td>True</td>\n",
       "      <td>unfurnished</td>\n",
       "    </tr>\n",
       "    <tr>\n",
       "      <th>2</th>\n",
       "      <td>8632694.0</td>\n",
       "      <td>4182.0</td>\n",
       "      <td>3.0</td>\n",
       "      <td>3.0</td>\n",
       "      <td>1.0</td>\n",
       "      <td>TRUE</td>\n",
       "      <td>FALSE</td>\n",
       "      <td>FALSE</td>\n",
       "      <td>TRUE</td>\n",
       "      <td>True</td>\n",
       "      <td>3</td>\n",
       "      <td>False</td>\n",
       "      <td>unfurnished</td>\n",
       "    </tr>\n",
       "    <tr>\n",
       "      <th>3</th>\n",
       "      <td>8481911.0</td>\n",
       "      <td>10645.0</td>\n",
       "      <td>4.0</td>\n",
       "      <td>4.0</td>\n",
       "      <td>NaN</td>\n",
       "      <td>FALSE</td>\n",
       "      <td>TRUE</td>\n",
       "      <td>TRUE</td>\n",
       "      <td>FALSE</td>\n",
       "      <td>False</td>\n",
       "      <td>0</td>\n",
       "      <td>False</td>\n",
       "      <td>semi-furnished</td>\n",
       "    </tr>\n",
       "    <tr>\n",
       "      <th>4</th>\n",
       "      <td>13556045.0</td>\n",
       "      <td>6415.0</td>\n",
       "      <td>4.0</td>\n",
       "      <td>2.0</td>\n",
       "      <td>1.0</td>\n",
       "      <td>FALSE</td>\n",
       "      <td>TRUE</td>\n",
       "      <td>FALSE</td>\n",
       "      <td>TRUE</td>\n",
       "      <td>False</td>\n",
       "      <td>0</td>\n",
       "      <td>True</td>\n",
       "      <td>furnished</td>\n",
       "    </tr>\n",
       "  </tbody>\n",
       "</table>\n",
       "</div>"
      ],
      "text/plain": [
       "        price     area  bedrooms  bathrooms  stories mainroad guestroom  \\\n",
       "0  11991472.0  14139.0       3.0        1.0      4.0    FALSE      TRUE   \n",
       "1  11991472.0  14139.0       3.0        1.0      4.0    FALSE      TRUE   \n",
       "2   8632694.0   4182.0       3.0        3.0      1.0     TRUE     FALSE   \n",
       "3   8481911.0  10645.0       4.0        4.0      NaN    FALSE      TRUE   \n",
       "4  13556045.0   6415.0       4.0        2.0      1.0    FALSE      TRUE   \n",
       "\n",
       "  basement hotwaterheating  airconditioning  parking  prefarea  \\\n",
       "0    FALSE           FALSE            False        1      True   \n",
       "1    FALSE           FALSE            False        1      True   \n",
       "2    FALSE            TRUE             True        3     False   \n",
       "3     TRUE           FALSE            False        0     False   \n",
       "4    FALSE            TRUE            False        0      True   \n",
       "\n",
       "  furnishingstatus  \n",
       "0      unfurnished  \n",
       "1      unfurnished  \n",
       "2      unfurnished  \n",
       "3   semi-furnished  \n",
       "4        furnished  "
      ]
     },
     "execution_count": 16,
     "metadata": {},
     "output_type": "execute_result"
    }
   ],
   "source": [
    "broken_housing_df.head()"
   ]
  },
  {
   "cell_type": "code",
   "execution_count": 17,
   "id": "5fa60896",
   "metadata": {},
   "outputs": [
    {
     "data": {
      "text/plain": [
       "price               12\n",
       "area                15\n",
       "bedrooms            13\n",
       "bathrooms           18\n",
       "stories             20\n",
       "mainroad             0\n",
       "guestroom            0\n",
       "basement            47\n",
       "hotwaterheating      0\n",
       "airconditioning      0\n",
       "parking              0\n",
       "prefarea             0\n",
       "furnishingstatus     0\n",
       "dtype: int64"
      ]
     },
     "metadata": {},
     "output_type": "display_data"
    }
   ],
   "source": [
    "display(broken_housing_df.isna().sum())"
   ]
  },
  {
   "cell_type": "code",
   "execution_count": 18,
   "id": "0ce64ae0",
   "metadata": {},
   "outputs": [
    {
     "ename": "NameError",
     "evalue": "name 'uni' is not defined",
     "output_type": "error",
     "traceback": [
      "\u001b[0;31m---------------------------------------------------------------------------\u001b[0m",
      "\u001b[0;31mNameError\u001b[0m                                 Traceback (most recent call last)",
      "Cell \u001b[0;32mIn[18], line 1\u001b[0m\n\u001b[0;32m----> 1\u001b[0m broken_housing_df[\u001b[43muni\u001b[49m()]\n",
      "\u001b[0;31mNameError\u001b[0m: name 'uni' is not defined"
     ]
    }
   ],
   "source": [
    "broken_housing_df[uni()]"
   ]
  },
  {
   "cell_type": "code",
   "execution_count": 19,
   "id": "ad5e520c",
   "metadata": {},
   "outputs": [
    {
     "data": {
      "text/plain": [
       "price                991\n",
       "area                 988\n",
       "bedrooms             990\n",
       "bathrooms            985\n",
       "stories              983\n",
       "mainroad            1003\n",
       "guestroom           1003\n",
       "basement             956\n",
       "hotwaterheating     1003\n",
       "airconditioning     1003\n",
       "parking             1003\n",
       "prefarea            1003\n",
       "furnishingstatus    1003\n",
       "dtype: int64"
      ]
     },
     "metadata": {},
     "output_type": "display_data"
    },
    {
     "data": {
      "text/plain": [
       "price               883\n",
       "area                883\n",
       "bedrooms            883\n",
       "bathrooms           883\n",
       "stories             883\n",
       "mainroad            883\n",
       "guestroom           883\n",
       "basement            883\n",
       "hotwaterheating     883\n",
       "airconditioning     883\n",
       "parking             883\n",
       "prefarea            883\n",
       "furnishingstatus    883\n",
       "dtype: int64"
      ]
     },
     "execution_count": 19,
     "metadata": {},
     "output_type": "execute_result"
    }
   ],
   "source": [
    "# drop missing\n",
    "display(broken_housing_df.count())\n",
    "no_missing_df = broken_housing_df.dropna(how='any')\n",
    "no_missing_df.count()"
   ]
  },
  {
   "cell_type": "code",
   "execution_count": 20,
   "id": "7bd5dcee",
   "metadata": {},
   "outputs": [
    {
     "data": {
      "text/html": [
       "<div>\n",
       "<style scoped>\n",
       "    .dataframe tbody tr th:only-of-type {\n",
       "        vertical-align: middle;\n",
       "    }\n",
       "\n",
       "    .dataframe tbody tr th {\n",
       "        vertical-align: top;\n",
       "    }\n",
       "\n",
       "    .dataframe thead th {\n",
       "        text-align: right;\n",
       "    }\n",
       "</style>\n",
       "<table border=\"1\" class=\"dataframe\">\n",
       "  <thead>\n",
       "    <tr style=\"text-align: right;\">\n",
       "      <th></th>\n",
       "      <th>price</th>\n",
       "      <th>area</th>\n",
       "      <th>bedrooms</th>\n",
       "      <th>bathrooms</th>\n",
       "      <th>stories</th>\n",
       "      <th>mainroad</th>\n",
       "      <th>guestroom</th>\n",
       "      <th>basement</th>\n",
       "      <th>hotwaterheating</th>\n",
       "      <th>airconditioning</th>\n",
       "      <th>parking</th>\n",
       "      <th>prefarea</th>\n",
       "      <th>furnishingstatus</th>\n",
       "    </tr>\n",
       "  </thead>\n",
       "  <tbody>\n",
       "    <tr>\n",
       "      <th>0</th>\n",
       "      <td>11991472.0</td>\n",
       "      <td>14139.0</td>\n",
       "      <td>3.0</td>\n",
       "      <td>1.0</td>\n",
       "      <td>4.0</td>\n",
       "      <td>FALSE</td>\n",
       "      <td>TRUE</td>\n",
       "      <td>FALSE</td>\n",
       "      <td>FALSE</td>\n",
       "      <td>False</td>\n",
       "      <td>1</td>\n",
       "      <td>True</td>\n",
       "      <td>unfurnished</td>\n",
       "    </tr>\n",
       "    <tr>\n",
       "      <th>1</th>\n",
       "      <td>11991472.0</td>\n",
       "      <td>14139.0</td>\n",
       "      <td>3.0</td>\n",
       "      <td>1.0</td>\n",
       "      <td>4.0</td>\n",
       "      <td>FALSE</td>\n",
       "      <td>TRUE</td>\n",
       "      <td>FALSE</td>\n",
       "      <td>FALSE</td>\n",
       "      <td>False</td>\n",
       "      <td>1</td>\n",
       "      <td>True</td>\n",
       "      <td>unfurnished</td>\n",
       "    </tr>\n",
       "    <tr>\n",
       "      <th>2</th>\n",
       "      <td>8632694.0</td>\n",
       "      <td>4182.0</td>\n",
       "      <td>3.0</td>\n",
       "      <td>3.0</td>\n",
       "      <td>1.0</td>\n",
       "      <td>TRUE</td>\n",
       "      <td>FALSE</td>\n",
       "      <td>FALSE</td>\n",
       "      <td>TRUE</td>\n",
       "      <td>True</td>\n",
       "      <td>3</td>\n",
       "      <td>False</td>\n",
       "      <td>unfurnished</td>\n",
       "    </tr>\n",
       "    <tr>\n",
       "      <th>4</th>\n",
       "      <td>13556045.0</td>\n",
       "      <td>6415.0</td>\n",
       "      <td>4.0</td>\n",
       "      <td>2.0</td>\n",
       "      <td>1.0</td>\n",
       "      <td>FALSE</td>\n",
       "      <td>TRUE</td>\n",
       "      <td>FALSE</td>\n",
       "      <td>TRUE</td>\n",
       "      <td>False</td>\n",
       "      <td>0</td>\n",
       "      <td>True</td>\n",
       "      <td>furnished</td>\n",
       "    </tr>\n",
       "    <tr>\n",
       "      <th>5</th>\n",
       "      <td>9925983.0</td>\n",
       "      <td>9504.0</td>\n",
       "      <td>3.0</td>\n",
       "      <td>2.0</td>\n",
       "      <td>2.0</td>\n",
       "      <td>FALSE</td>\n",
       "      <td>TRUE</td>\n",
       "      <td>FALSE</td>\n",
       "      <td>FALSE</td>\n",
       "      <td>True</td>\n",
       "      <td>1</td>\n",
       "      <td>False</td>\n",
       "      <td>furnished</td>\n",
       "    </tr>\n",
       "    <tr>\n",
       "      <th>...</th>\n",
       "      <td>...</td>\n",
       "      <td>...</td>\n",
       "      <td>...</td>\n",
       "      <td>...</td>\n",
       "      <td>...</td>\n",
       "      <td>...</td>\n",
       "      <td>...</td>\n",
       "      <td>...</td>\n",
       "      <td>...</td>\n",
       "      <td>...</td>\n",
       "      <td>...</td>\n",
       "      <td>...</td>\n",
       "      <td>...</td>\n",
       "    </tr>\n",
       "    <tr>\n",
       "      <th>998</th>\n",
       "      <td>12075398.0</td>\n",
       "      <td>14506.0</td>\n",
       "      <td>5.0</td>\n",
       "      <td>3.0</td>\n",
       "      <td>2.0</td>\n",
       "      <td>TRUE</td>\n",
       "      <td>TRUE</td>\n",
       "      <td>TRUE</td>\n",
       "      <td>FALSE</td>\n",
       "      <td>True</td>\n",
       "      <td>1</td>\n",
       "      <td>False</td>\n",
       "      <td>semi-furnished</td>\n",
       "    </tr>\n",
       "    <tr>\n",
       "      <th>999</th>\n",
       "      <td>12956391.0</td>\n",
       "      <td>8477.0</td>\n",
       "      <td>4.0</td>\n",
       "      <td>1.0</td>\n",
       "      <td>4.0</td>\n",
       "      <td>FALSE</td>\n",
       "      <td>TRUE</td>\n",
       "      <td>TRUE</td>\n",
       "      <td>FALSE</td>\n",
       "      <td>True</td>\n",
       "      <td>1</td>\n",
       "      <td>False</td>\n",
       "      <td>furnished</td>\n",
       "    </tr>\n",
       "    <tr>\n",
       "      <th>1000</th>\n",
       "      <td>8955419.0</td>\n",
       "      <td>15133.0</td>\n",
       "      <td>4.0</td>\n",
       "      <td>1.0</td>\n",
       "      <td>4.0</td>\n",
       "      <td>TRUE</td>\n",
       "      <td>FALSE</td>\n",
       "      <td>FALSE</td>\n",
       "      <td>FALSE</td>\n",
       "      <td>True</td>\n",
       "      <td>1</td>\n",
       "      <td>True</td>\n",
       "      <td>semi-furnished</td>\n",
       "    </tr>\n",
       "    <tr>\n",
       "      <th>1001</th>\n",
       "      <td>13008312.0</td>\n",
       "      <td>9323.0</td>\n",
       "      <td>4.0</td>\n",
       "      <td>1.0</td>\n",
       "      <td>4.0</td>\n",
       "      <td>TRUE</td>\n",
       "      <td>FALSE</td>\n",
       "      <td>TRUE</td>\n",
       "      <td>FALSE</td>\n",
       "      <td>True</td>\n",
       "      <td>1</td>\n",
       "      <td>False</td>\n",
       "      <td>furnished</td>\n",
       "    </tr>\n",
       "    <tr>\n",
       "      <th>1002</th>\n",
       "      <td>11570228.0</td>\n",
       "      <td>4124.0</td>\n",
       "      <td>4.0</td>\n",
       "      <td>2.0</td>\n",
       "      <td>3.0</td>\n",
       "      <td>TRUE</td>\n",
       "      <td>FALSE</td>\n",
       "      <td>FALSE</td>\n",
       "      <td>TRUE</td>\n",
       "      <td>True</td>\n",
       "      <td>0</td>\n",
       "      <td>True</td>\n",
       "      <td>furnished</td>\n",
       "    </tr>\n",
       "  </tbody>\n",
       "</table>\n",
       "<p>883 rows × 13 columns</p>\n",
       "</div>"
      ],
      "text/plain": [
       "           price     area  bedrooms  bathrooms  stories mainroad guestroom  \\\n",
       "0     11991472.0  14139.0       3.0        1.0      4.0    FALSE      TRUE   \n",
       "1     11991472.0  14139.0       3.0        1.0      4.0    FALSE      TRUE   \n",
       "2      8632694.0   4182.0       3.0        3.0      1.0     TRUE     FALSE   \n",
       "4     13556045.0   6415.0       4.0        2.0      1.0    FALSE      TRUE   \n",
       "5      9925983.0   9504.0       3.0        2.0      2.0    FALSE      TRUE   \n",
       "...          ...      ...       ...        ...      ...      ...       ...   \n",
       "998   12075398.0  14506.0       5.0        3.0      2.0     TRUE      TRUE   \n",
       "999   12956391.0   8477.0       4.0        1.0      4.0    FALSE      TRUE   \n",
       "1000   8955419.0  15133.0       4.0        1.0      4.0     TRUE     FALSE   \n",
       "1001  13008312.0   9323.0       4.0        1.0      4.0     TRUE     FALSE   \n",
       "1002  11570228.0   4124.0       4.0        2.0      3.0     TRUE     FALSE   \n",
       "\n",
       "     basement hotwaterheating  airconditioning  parking  prefarea  \\\n",
       "0       FALSE           FALSE            False        1      True   \n",
       "1       FALSE           FALSE            False        1      True   \n",
       "2       FALSE            TRUE             True        3     False   \n",
       "4       FALSE            TRUE            False        0      True   \n",
       "5       FALSE           FALSE             True        1     False   \n",
       "...       ...             ...              ...      ...       ...   \n",
       "998      TRUE           FALSE             True        1     False   \n",
       "999      TRUE           FALSE             True        1     False   \n",
       "1000    FALSE           FALSE             True        1      True   \n",
       "1001     TRUE           FALSE             True        1     False   \n",
       "1002    FALSE            TRUE             True        0      True   \n",
       "\n",
       "     furnishingstatus  \n",
       "0         unfurnished  \n",
       "1         unfurnished  \n",
       "2         unfurnished  \n",
       "4           furnished  \n",
       "5           furnished  \n",
       "...               ...  \n",
       "998    semi-furnished  \n",
       "999         furnished  \n",
       "1000   semi-furnished  \n",
       "1001        furnished  \n",
       "1002        furnished  \n",
       "\n",
       "[883 rows x 13 columns]"
      ]
     },
     "execution_count": 20,
     "metadata": {},
     "output_type": "execute_result"
    }
   ],
   "source": [
    "no_missing_df"
   ]
  },
  {
   "cell_type": "code",
   "execution_count": 21,
   "id": "14a18d15",
   "metadata": {},
   "outputs": [
    {
     "data": {
      "text/plain": [
       "1003"
      ]
     },
     "metadata": {},
     "output_type": "display_data"
    }
   ],
   "source": [
    "display(broken_housing_df['price'].isna().count())\n",
    "price_only_df = broken_housing_df.dropna(subset=['price'])\n"
   ]
  },
  {
   "cell_type": "code",
   "execution_count": 22,
   "id": "0bd9fc83",
   "metadata": {},
   "outputs": [
    {
     "data": {
      "text/plain": [
       "price               991\n",
       "area                976\n",
       "bedrooms            979\n",
       "bathrooms           973\n",
       "stories             971\n",
       "mainroad            991\n",
       "guestroom           991\n",
       "basement            944\n",
       "hotwaterheating     991\n",
       "airconditioning     991\n",
       "parking             991\n",
       "prefarea            991\n",
       "furnishingstatus    991\n",
       "dtype: int64"
      ]
     },
     "execution_count": 22,
     "metadata": {},
     "output_type": "execute_result"
    }
   ],
   "source": [
    "price_only_df.count()"
   ]
  },
  {
   "cell_type": "code",
   "execution_count": 23,
   "id": "115e805b",
   "metadata": {},
   "outputs": [],
   "source": [
    "# cleaned no missing data"
   ]
  },
  {
   "cell_type": "code",
   "execution_count": 24,
   "id": "e0de4172",
   "metadata": {},
   "outputs": [
    {
     "name": "stdout",
     "output_type": "stream",
     "text": [
      "price               883\n",
      "area                883\n",
      "bedrooms            883\n",
      "bathrooms           883\n",
      "stories             883\n",
      "mainroad            883\n",
      "guestroom           883\n",
      "basement            883\n",
      "hotwaterheating     883\n",
      "airconditioning     883\n",
      "parking             883\n",
      "prefarea            883\n",
      "furnishingstatus    883\n",
      "dtype: int64\n"
     ]
    }
   ],
   "source": [
    "print(no_missing_df.count())"
   ]
  },
  {
   "cell_type": "code",
   "execution_count": 25,
   "id": "4481bbcf",
   "metadata": {},
   "outputs": [],
   "source": [
    "unique_df = no_missing_df.drop_duplicates(keep='last')"
   ]
  },
  {
   "cell_type": "code",
   "execution_count": 26,
   "id": "8761243a",
   "metadata": {},
   "outputs": [
    {
     "data": {
      "text/plain": [
       "price               880\n",
       "area                880\n",
       "bedrooms            880\n",
       "bathrooms           880\n",
       "stories             880\n",
       "mainroad            880\n",
       "guestroom           880\n",
       "basement            880\n",
       "hotwaterheating     880\n",
       "airconditioning     880\n",
       "parking             880\n",
       "prefarea            880\n",
       "furnishingstatus    880\n",
       "dtype: int64"
      ]
     },
     "execution_count": 26,
     "metadata": {},
     "output_type": "execute_result"
    }
   ],
   "source": [
    "unique_df.count()"
   ]
  },
  {
   "cell_type": "code",
   "execution_count": 27,
   "id": "50ca60db",
   "metadata": {},
   "outputs": [
    {
     "name": "stdout",
     "output_type": "stream",
     "text": [
      "price               880\n",
      "area                880\n",
      "bedrooms            880\n",
      "bathrooms           880\n",
      "stories             880\n",
      "mainroad            880\n",
      "guestroom           880\n",
      "basement            880\n",
      "hotwaterheating     880\n",
      "airconditioning     880\n",
      "parking             880\n",
      "prefarea            880\n",
      "furnishingstatus    880\n",
      "dtype: int64\n"
     ]
    }
   ],
   "source": [
    "unique_df =  no_missing_df.drop_duplicates(subset=['price','area','bedrooms','bathrooms'], keep='first')\n",
    "print(unique_df.count())\n"
   ]
  },
  {
   "cell_type": "code",
   "execution_count": 28,
   "id": "50b82ec7",
   "metadata": {},
   "outputs": [],
   "source": [
    "### outlier detection"
   ]
  },
  {
   "cell_type": "code",
   "execution_count": 29,
   "id": "53d0e8f0",
   "metadata": {},
   "outputs": [],
   "source": [
    "pd.options.display.float_format = '{:.2f}'.format"
   ]
  },
  {
   "cell_type": "code",
   "execution_count": 30,
   "id": "66d9d338",
   "metadata": {},
   "outputs": [
    {
     "data": {
      "text/html": [
       "<div>\n",
       "<style scoped>\n",
       "    .dataframe tbody tr th:only-of-type {\n",
       "        vertical-align: middle;\n",
       "    }\n",
       "\n",
       "    .dataframe tbody tr th {\n",
       "        vertical-align: top;\n",
       "    }\n",
       "\n",
       "    .dataframe thead th {\n",
       "        text-align: right;\n",
       "    }\n",
       "</style>\n",
       "<table border=\"1\" class=\"dataframe\">\n",
       "  <thead>\n",
       "    <tr style=\"text-align: right;\">\n",
       "      <th></th>\n",
       "      <th>price</th>\n",
       "      <th>area</th>\n",
       "      <th>bedrooms</th>\n",
       "      <th>bathrooms</th>\n",
       "      <th>stories</th>\n",
       "      <th>parking</th>\n",
       "    </tr>\n",
       "  </thead>\n",
       "  <tbody>\n",
       "    <tr>\n",
       "      <th>count</th>\n",
       "      <td>880.00</td>\n",
       "      <td>880.00</td>\n",
       "      <td>880.00</td>\n",
       "      <td>880.00</td>\n",
       "      <td>880.00</td>\n",
       "      <td>880.00</td>\n",
       "    </tr>\n",
       "    <tr>\n",
       "      <th>mean</th>\n",
       "      <td>11068169.31</td>\n",
       "      <td>8898.32</td>\n",
       "      <td>3.97</td>\n",
       "      <td>2.63</td>\n",
       "      <td>2.43</td>\n",
       "      <td>1.44</td>\n",
       "    </tr>\n",
       "    <tr>\n",
       "      <th>std</th>\n",
       "      <td>1736744.98</td>\n",
       "      <td>34204.13</td>\n",
       "      <td>0.82</td>\n",
       "      <td>4.25</td>\n",
       "      <td>1.11</td>\n",
       "      <td>1.22</td>\n",
       "    </tr>\n",
       "    <tr>\n",
       "      <th>min</th>\n",
       "      <td>-112.00</td>\n",
       "      <td>-998877.00</td>\n",
       "      <td>3.00</td>\n",
       "      <td>1.00</td>\n",
       "      <td>1.00</td>\n",
       "      <td>-12.00</td>\n",
       "    </tr>\n",
       "    <tr>\n",
       "      <th>25%</th>\n",
       "      <td>9743989.25</td>\n",
       "      <td>6855.25</td>\n",
       "      <td>3.00</td>\n",
       "      <td>2.00</td>\n",
       "      <td>1.00</td>\n",
       "      <td>0.00</td>\n",
       "    </tr>\n",
       "    <tr>\n",
       "      <th>50%</th>\n",
       "      <td>11070783.00</td>\n",
       "      <td>10214.50</td>\n",
       "      <td>4.00</td>\n",
       "      <td>2.00</td>\n",
       "      <td>2.00</td>\n",
       "      <td>1.00</td>\n",
       "    </tr>\n",
       "    <tr>\n",
       "      <th>75%</th>\n",
       "      <td>12431136.00</td>\n",
       "      <td>13103.75</td>\n",
       "      <td>5.00</td>\n",
       "      <td>4.00</td>\n",
       "      <td>3.00</td>\n",
       "      <td>2.00</td>\n",
       "    </tr>\n",
       "    <tr>\n",
       "      <th>max</th>\n",
       "      <td>13999077.00</td>\n",
       "      <td>16196.00</td>\n",
       "      <td>5.00</td>\n",
       "      <td>124.00</td>\n",
       "      <td>4.00</td>\n",
       "      <td>3.00</td>\n",
       "    </tr>\n",
       "  </tbody>\n",
       "</table>\n",
       "</div>"
      ],
      "text/plain": [
       "            price       area  bedrooms  bathrooms  stories  parking\n",
       "count      880.00     880.00    880.00     880.00   880.00   880.00\n",
       "mean  11068169.31    8898.32      3.97       2.63     2.43     1.44\n",
       "std    1736744.98   34204.13      0.82       4.25     1.11     1.22\n",
       "min       -112.00 -998877.00      3.00       1.00     1.00   -12.00\n",
       "25%    9743989.25    6855.25      3.00       2.00     1.00     0.00\n",
       "50%   11070783.00   10214.50      4.00       2.00     2.00     1.00\n",
       "75%   12431136.00   13103.75      5.00       4.00     3.00     2.00\n",
       "max   13999077.00   16196.00      5.00     124.00     4.00     3.00"
      ]
     },
     "execution_count": 30,
     "metadata": {},
     "output_type": "execute_result"
    }
   ],
   "source": [
    "unique_df.describe()"
   ]
  },
  {
   "cell_type": "code",
   "execution_count": 31,
   "id": "a73eb3b1",
   "metadata": {},
   "outputs": [],
   "source": [
    "def is_iqr_outlier(column):\n",
    "    q1 = column.quantile(0.25)\n",
    "    q3 = column.quantile(0.75)\n",
    "    IQR = q3-q1\n",
    "    lower_bound = q1 - (1.5 * IQR)\n",
    "    upper_bound = q3 + (1.5 * IQR)\n",
    "    return ~column.between(lower_bound, upper_bound)\n"
   ]
  },
  {
   "cell_type": "code",
   "execution_count": 32,
   "id": "fbef9fe6",
   "metadata": {},
   "outputs": [
    {
     "data": {
      "text/plain": [
       "0       False\n",
       "2       False\n",
       "4       False\n",
       "5       False\n",
       "6       False\n",
       "        ...  \n",
       "997     False\n",
       "998     False\n",
       "999     False\n",
       "1000    False\n",
       "1001    False\n",
       "Name: bathrooms, Length: 880, dtype: bool"
      ]
     },
     "metadata": {},
     "output_type": "display_data"
    },
    {
     "data": {
      "text/html": [
       "<div>\n",
       "<style scoped>\n",
       "    .dataframe tbody tr th:only-of-type {\n",
       "        vertical-align: middle;\n",
       "    }\n",
       "\n",
       "    .dataframe tbody tr th {\n",
       "        vertical-align: top;\n",
       "    }\n",
       "\n",
       "    .dataframe thead th {\n",
       "        text-align: right;\n",
       "    }\n",
       "</style>\n",
       "<table border=\"1\" class=\"dataframe\">\n",
       "  <thead>\n",
       "    <tr style=\"text-align: right;\">\n",
       "      <th></th>\n",
       "      <th>price</th>\n",
       "      <th>area</th>\n",
       "      <th>bedrooms</th>\n",
       "      <th>bathrooms</th>\n",
       "      <th>stories</th>\n",
       "      <th>mainroad</th>\n",
       "      <th>guestroom</th>\n",
       "      <th>basement</th>\n",
       "      <th>hotwaterheating</th>\n",
       "      <th>airconditioning</th>\n",
       "      <th>parking</th>\n",
       "      <th>prefarea</th>\n",
       "      <th>furnishingstatus</th>\n",
       "    </tr>\n",
       "  </thead>\n",
       "  <tbody>\n",
       "    <tr>\n",
       "      <th>128</th>\n",
       "      <td>11000337.00</td>\n",
       "      <td>7426.00</td>\n",
       "      <td>3.00</td>\n",
       "      <td>124.00</td>\n",
       "      <td>1.00</td>\n",
       "      <td>FALSE</td>\n",
       "      <td>TRUE</td>\n",
       "      <td>TRUE</td>\n",
       "      <td>TRUE</td>\n",
       "      <td>False</td>\n",
       "      <td>2</td>\n",
       "      <td>False</td>\n",
       "      <td>furnished</td>\n",
       "    </tr>\n",
       "  </tbody>\n",
       "</table>\n",
       "</div>"
      ],
      "text/plain": [
       "          price    area  bedrooms  bathrooms  stories mainroad guestroom  \\\n",
       "128 11000337.00 7426.00      3.00     124.00     1.00    FALSE      TRUE   \n",
       "\n",
       "    basement hotwaterheating  airconditioning  parking  prefarea  \\\n",
       "128     TRUE            TRUE            False        2     False   \n",
       "\n",
       "    furnishingstatus  \n",
       "128        furnished  "
      ]
     },
     "metadata": {},
     "output_type": "display_data"
    }
   ],
   "source": [
    "display(is_iqr_outlier(unique_df['bathrooms']))\n",
    "\n",
    "display(unique_df[is_iqr_outlier(unique_df['bathrooms'])])"
   ]
  },
  {
   "cell_type": "code",
   "execution_count": 33,
   "id": "30b950c5",
   "metadata": {},
   "outputs": [
    {
     "data": {
      "text/html": [
       "<div>\n",
       "<style scoped>\n",
       "    .dataframe tbody tr th:only-of-type {\n",
       "        vertical-align: middle;\n",
       "    }\n",
       "\n",
       "    .dataframe tbody tr th {\n",
       "        vertical-align: top;\n",
       "    }\n",
       "\n",
       "    .dataframe thead th {\n",
       "        text-align: right;\n",
       "    }\n",
       "</style>\n",
       "<table border=\"1\" class=\"dataframe\">\n",
       "  <thead>\n",
       "    <tr style=\"text-align: right;\">\n",
       "      <th></th>\n",
       "      <th>price</th>\n",
       "      <th>area</th>\n",
       "      <th>bedrooms</th>\n",
       "      <th>bathrooms</th>\n",
       "      <th>stories</th>\n",
       "      <th>mainroad</th>\n",
       "      <th>guestroom</th>\n",
       "      <th>basement</th>\n",
       "      <th>hotwaterheating</th>\n",
       "      <th>airconditioning</th>\n",
       "      <th>parking</th>\n",
       "      <th>prefarea</th>\n",
       "      <th>furnishingstatus</th>\n",
       "    </tr>\n",
       "  </thead>\n",
       "  <tbody>\n",
       "    <tr>\n",
       "      <th>12</th>\n",
       "      <td>-112.00</td>\n",
       "      <td>8687.00</td>\n",
       "      <td>3.00</td>\n",
       "      <td>4.00</td>\n",
       "      <td>1.00</td>\n",
       "      <td>TRUE</td>\n",
       "      <td>TRUE</td>\n",
       "      <td>FALSE</td>\n",
       "      <td>TRUE</td>\n",
       "      <td>True</td>\n",
       "      <td>3</td>\n",
       "      <td>False</td>\n",
       "      <td>semi-furnished</td>\n",
       "    </tr>\n",
       "  </tbody>\n",
       "</table>\n",
       "</div>"
      ],
      "text/plain": [
       "     price    area  bedrooms  bathrooms  stories mainroad guestroom basement  \\\n",
       "12 -112.00 8687.00      3.00       4.00     1.00     TRUE      TRUE    FALSE   \n",
       "\n",
       "   hotwaterheating  airconditioning  parking  prefarea furnishingstatus  \n",
       "12            TRUE             True        3     False   semi-furnished  "
      ]
     },
     "metadata": {},
     "output_type": "display_data"
    }
   ],
   "source": [
    "display(unique_df[is_iqr_outlier(unique_df['price'])])\n"
   ]
  },
  {
   "cell_type": "code",
   "execution_count": 34,
   "id": "501f19a1",
   "metadata": {},
   "outputs": [
    {
     "data": {
      "text/html": [
       "<div>\n",
       "<style scoped>\n",
       "    .dataframe tbody tr th:only-of-type {\n",
       "        vertical-align: middle;\n",
       "    }\n",
       "\n",
       "    .dataframe tbody tr th {\n",
       "        vertical-align: top;\n",
       "    }\n",
       "\n",
       "    .dataframe thead th {\n",
       "        text-align: right;\n",
       "    }\n",
       "</style>\n",
       "<table border=\"1\" class=\"dataframe\">\n",
       "  <thead>\n",
       "    <tr style=\"text-align: right;\">\n",
       "      <th></th>\n",
       "      <th>price</th>\n",
       "      <th>area</th>\n",
       "      <th>bedrooms</th>\n",
       "      <th>bathrooms</th>\n",
       "      <th>stories</th>\n",
       "      <th>mainroad</th>\n",
       "      <th>guestroom</th>\n",
       "      <th>basement</th>\n",
       "      <th>hotwaterheating</th>\n",
       "      <th>airconditioning</th>\n",
       "      <th>parking</th>\n",
       "      <th>prefarea</th>\n",
       "      <th>furnishingstatus</th>\n",
       "    </tr>\n",
       "  </thead>\n",
       "  <tbody>\n",
       "    <tr>\n",
       "      <th>32</th>\n",
       "      <td>12904621.00</td>\n",
       "      <td>-998877.00</td>\n",
       "      <td>4.00</td>\n",
       "      <td>2.00</td>\n",
       "      <td>3.00</td>\n",
       "      <td>FALSE</td>\n",
       "      <td>TRUE</td>\n",
       "      <td>TRUE</td>\n",
       "      <td>TRUE</td>\n",
       "      <td>True</td>\n",
       "      <td>0</td>\n",
       "      <td>False</td>\n",
       "      <td>furnished</td>\n",
       "    </tr>\n",
       "  </tbody>\n",
       "</table>\n",
       "</div>"
      ],
      "text/plain": [
       "         price       area  bedrooms  bathrooms  stories mainroad guestroom  \\\n",
       "32 12904621.00 -998877.00      4.00       2.00     3.00    FALSE      TRUE   \n",
       "\n",
       "   basement hotwaterheating  airconditioning  parking  prefarea  \\\n",
       "32     TRUE            TRUE             True        0     False   \n",
       "\n",
       "   furnishingstatus  \n",
       "32        furnished  "
      ]
     },
     "metadata": {},
     "output_type": "display_data"
    }
   ],
   "source": [
    "display(unique_df[is_iqr_outlier(unique_df['area'])])\n"
   ]
  },
  {
   "cell_type": "code",
   "execution_count": 35,
   "id": "ad00615a",
   "metadata": {},
   "outputs": [
    {
     "data": {
      "text/html": [
       "<div>\n",
       "<style scoped>\n",
       "    .dataframe tbody tr th:only-of-type {\n",
       "        vertical-align: middle;\n",
       "    }\n",
       "\n",
       "    .dataframe tbody tr th {\n",
       "        vertical-align: top;\n",
       "    }\n",
       "\n",
       "    .dataframe thead th {\n",
       "        text-align: right;\n",
       "    }\n",
       "</style>\n",
       "<table border=\"1\" class=\"dataframe\">\n",
       "  <thead>\n",
       "    <tr style=\"text-align: right;\">\n",
       "      <th></th>\n",
       "      <th>price</th>\n",
       "      <th>area</th>\n",
       "      <th>bedrooms</th>\n",
       "      <th>bathrooms</th>\n",
       "      <th>stories</th>\n",
       "      <th>mainroad</th>\n",
       "      <th>guestroom</th>\n",
       "      <th>basement</th>\n",
       "      <th>hotwaterheating</th>\n",
       "      <th>airconditioning</th>\n",
       "      <th>parking</th>\n",
       "      <th>prefarea</th>\n",
       "      <th>furnishingstatus</th>\n",
       "    </tr>\n",
       "  </thead>\n",
       "  <tbody>\n",
       "    <tr>\n",
       "      <th>68</th>\n",
       "      <td>12776376.00</td>\n",
       "      <td>14647.00</td>\n",
       "      <td>4.00</td>\n",
       "      <td>4.00</td>\n",
       "      <td>4.00</td>\n",
       "      <td>TRUE</td>\n",
       "      <td>FALSE</td>\n",
       "      <td>TRUE</td>\n",
       "      <td>TRUE</td>\n",
       "      <td>True</td>\n",
       "      <td>-12</td>\n",
       "      <td>True</td>\n",
       "      <td>semi-furnished</td>\n",
       "    </tr>\n",
       "  </tbody>\n",
       "</table>\n",
       "</div>"
      ],
      "text/plain": [
       "         price     area  bedrooms  bathrooms  stories mainroad guestroom  \\\n",
       "68 12776376.00 14647.00      4.00       4.00     4.00     TRUE     FALSE   \n",
       "\n",
       "   basement hotwaterheating  airconditioning  parking  prefarea  \\\n",
       "68     TRUE            TRUE             True      -12      True   \n",
       "\n",
       "   furnishingstatus  \n",
       "68   semi-furnished  "
      ]
     },
     "metadata": {},
     "output_type": "display_data"
    }
   ],
   "source": [
    "display(unique_df[is_iqr_outlier(unique_df['parking'])])\n"
   ]
  },
  {
   "cell_type": "code",
   "execution_count": 36,
   "id": "c7510fc4",
   "metadata": {},
   "outputs": [],
   "source": [
    "### outlier "
   ]
  },
  {
   "cell_type": "code",
   "execution_count": 37,
   "id": "d2e11d74",
   "metadata": {},
   "outputs": [
    {
     "name": "stdout",
     "output_type": "stream",
     "text": [
      "price               880\n",
      "area                880\n",
      "bedrooms            880\n",
      "bathrooms           880\n",
      "stories             880\n",
      "mainroad            880\n",
      "guestroom           880\n",
      "basement            880\n",
      "hotwaterheating     880\n",
      "airconditioning     880\n",
      "parking             880\n",
      "prefarea            880\n",
      "furnishingstatus    880\n",
      "dtype: int64\n"
     ]
    }
   ],
   "source": [
    "print(unique_df.count())"
   ]
  },
  {
   "cell_type": "code",
   "execution_count": 38,
   "id": "c1f8ed8d",
   "metadata": {},
   "outputs": [],
   "source": [
    "no_outlier_1_df = unique_df[is_iqr_outlier(unique_df['price']) == False]"
   ]
  },
  {
   "cell_type": "code",
   "execution_count": 39,
   "id": "11f6d205",
   "metadata": {},
   "outputs": [
    {
     "name": "stdout",
     "output_type": "stream",
     "text": [
      "price               879\n",
      "area                879\n",
      "bedrooms            879\n",
      "bathrooms           879\n",
      "stories             879\n",
      "mainroad            879\n",
      "guestroom           879\n",
      "basement            879\n",
      "hotwaterheating     879\n",
      "airconditioning     879\n",
      "parking             879\n",
      "prefarea            879\n",
      "furnishingstatus    879\n",
      "dtype: int64\n"
     ]
    }
   ],
   "source": [
    "print(no_outlier_1_df.count())"
   ]
  },
  {
   "cell_type": "code",
   "execution_count": 41,
   "id": "9ad18976",
   "metadata": {},
   "outputs": [],
   "source": [
    "no_outlier_2_df = no_outlier_1_df[is_iqr_outlier(no_outlier_1_df['area']) == False]"
   ]
  },
  {
   "cell_type": "code",
   "execution_count": 42,
   "id": "d2d8321b",
   "metadata": {},
   "outputs": [
    {
     "data": {
      "text/plain": [
       "price               878\n",
       "area                878\n",
       "bedrooms            878\n",
       "bathrooms           878\n",
       "stories             878\n",
       "mainroad            878\n",
       "guestroom           878\n",
       "basement            878\n",
       "hotwaterheating     878\n",
       "airconditioning     878\n",
       "parking             878\n",
       "prefarea            878\n",
       "furnishingstatus    878\n",
       "dtype: int64"
      ]
     },
     "execution_count": 42,
     "metadata": {},
     "output_type": "execute_result"
    }
   ],
   "source": [
    "no_outlier_2_df.count()"
   ]
  },
  {
   "cell_type": "code",
   "execution_count": 43,
   "id": "6eadb19a",
   "metadata": {},
   "outputs": [],
   "source": [
    "# wrong column"
   ]
  },
  {
   "cell_type": "code",
   "execution_count": 44,
   "id": "76dd02b9",
   "metadata": {},
   "outputs": [
    {
     "data": {
      "text/plain": [
       "mainroad\n",
       "TRUE     456\n",
       "FALSE    421\n",
       "ERROR      1\n",
       "Name: count, dtype: int64"
      ]
     },
     "execution_count": 44,
     "metadata": {},
     "output_type": "execute_result"
    }
   ],
   "source": [
    "no_outlier_2_df['mainroad'].value_counts()"
   ]
  },
  {
   "cell_type": "code",
   "execution_count": 45,
   "id": "769a856d",
   "metadata": {},
   "outputs": [
    {
     "data": {
      "text/html": [
       "<div>\n",
       "<style scoped>\n",
       "    .dataframe tbody tr th:only-of-type {\n",
       "        vertical-align: middle;\n",
       "    }\n",
       "\n",
       "    .dataframe tbody tr th {\n",
       "        vertical-align: top;\n",
       "    }\n",
       "\n",
       "    .dataframe thead th {\n",
       "        text-align: right;\n",
       "    }\n",
       "</style>\n",
       "<table border=\"1\" class=\"dataframe\">\n",
       "  <thead>\n",
       "    <tr style=\"text-align: right;\">\n",
       "      <th></th>\n",
       "      <th>price</th>\n",
       "      <th>area</th>\n",
       "      <th>bedrooms</th>\n",
       "      <th>bathrooms</th>\n",
       "      <th>stories</th>\n",
       "      <th>mainroad</th>\n",
       "      <th>guestroom</th>\n",
       "      <th>basement</th>\n",
       "      <th>hotwaterheating</th>\n",
       "      <th>airconditioning</th>\n",
       "      <th>parking</th>\n",
       "      <th>prefarea</th>\n",
       "      <th>furnishingstatus</th>\n",
       "    </tr>\n",
       "  </thead>\n",
       "  <tbody>\n",
       "    <tr>\n",
       "      <th>988</th>\n",
       "      <td>9994840.00</td>\n",
       "      <td>15809.00</td>\n",
       "      <td>3.00</td>\n",
       "      <td>4.00</td>\n",
       "      <td>4.00</td>\n",
       "      <td>ERROR</td>\n",
       "      <td>ERROR</td>\n",
       "      <td>ERROR</td>\n",
       "      <td>ERROR</td>\n",
       "      <td>False</td>\n",
       "      <td>2</td>\n",
       "      <td>False</td>\n",
       "      <td>semi-furnished</td>\n",
       "    </tr>\n",
       "  </tbody>\n",
       "</table>\n",
       "</div>"
      ],
      "text/plain": [
       "         price     area  bedrooms  bathrooms  stories mainroad guestroom  \\\n",
       "988 9994840.00 15809.00      3.00       4.00     4.00    ERROR     ERROR   \n",
       "\n",
       "    basement hotwaterheating  airconditioning  parking  prefarea  \\\n",
       "988    ERROR           ERROR            False        2     False   \n",
       "\n",
       "    furnishingstatus  \n",
       "988   semi-furnished  "
      ]
     },
     "execution_count": 45,
     "metadata": {},
     "output_type": "execute_result"
    }
   ],
   "source": [
    "no_outlier_2_df[no_outlier_2_df['mainroad']=='ERROR']"
   ]
  },
  {
   "cell_type": "code",
   "execution_count": 46,
   "id": "8a68b560",
   "metadata": {},
   "outputs": [
    {
     "data": {
      "text/plain": [
       "price               877\n",
       "area                877\n",
       "bedrooms            877\n",
       "bathrooms           877\n",
       "stories             877\n",
       "mainroad            877\n",
       "guestroom           877\n",
       "basement            877\n",
       "hotwaterheating     877\n",
       "airconditioning     877\n",
       "parking             877\n",
       "prefarea            877\n",
       "furnishingstatus    877\n",
       "dtype: int64"
      ]
     },
     "execution_count": 46,
     "metadata": {},
     "output_type": "execute_result"
    }
   ],
   "source": [
    "no_outlier_2_df = no_outlier_2_df[no_outlier_2_df['mainroad'] != 'ERROR']\n",
    "no_outlier_2_df.count()"
   ]
  },
  {
   "cell_type": "code",
   "execution_count": 52,
   "id": "fd477698",
   "metadata": {},
   "outputs": [
    {
     "data": {
      "text/plain": [
       "price               float64\n",
       "area                float64\n",
       "bedrooms            float64\n",
       "bathrooms           float64\n",
       "stories             float64\n",
       "mainroad               bool\n",
       "guestroom            object\n",
       "basement             object\n",
       "hotwaterheating      object\n",
       "airconditioning        bool\n",
       "parking               int64\n",
       "prefarea               bool\n",
       "furnishingstatus     object\n",
       "dtype: object"
      ]
     },
     "execution_count": 52,
     "metadata": {},
     "output_type": "execute_result"
    }
   ],
   "source": [
    "mainroad_col_fixed_df = unique_df.copy()\n",
    "\n",
    "mainroad_col_fixed_df['mainroad'] = mainroad_col_fixed_df['mainroad'].astype('bool')\n",
    "mainroad_col_fixed_df.dtypes\n"
   ]
  },
  {
   "cell_type": "code",
   "execution_count": null,
   "id": "c04ec016",
   "metadata": {},
   "outputs": [],
   "source": [
    "mainroad_col_fixed_d"
   ]
  }
 ],
 "metadata": {
  "kernelspec": {
   "display_name": "Python 3 (ipykernel)",
   "language": "python",
   "name": "python3"
  },
  "language_info": {
   "codemirror_mode": {
    "name": "ipython",
    "version": 3
   },
   "file_extension": ".py",
   "mimetype": "text/x-python",
   "name": "python",
   "nbconvert_exporter": "python",
   "pygments_lexer": "ipython3",
   "version": "3.11.5"
  }
 },
 "nbformat": 4,
 "nbformat_minor": 5
}
